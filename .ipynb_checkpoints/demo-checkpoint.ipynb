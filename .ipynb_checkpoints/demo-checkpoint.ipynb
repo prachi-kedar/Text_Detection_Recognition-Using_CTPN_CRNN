{
 "cells": [
  {
   "cell_type": "code",
   "execution_count": null,
   "id": "internal-canada",
   "metadata": {},
   "outputs": [],
   "source": [
    "import os\n",
    "from ocr import ocr\n",
    "import time\n",
    "import shutil\n",
    "import numpy as np\n",
    "from PIL import Image\n",
    "from glob import glob\n",
    "\n",
    "\n",
    "def single_pic_proc(image_file):\n",
    "    image = np.array(Image.open(image_file).convert('RGB'))\n",
    "    result, image_framed = ocr(image)\n",
    "    return result,image_framed\n",
    "\n",
    "\n",
    "if __name__ == '__main__':\n",
    "    image_files = glob('./test_images/*.*')\n",
    "    result_dir = './test_result'\n",
    "    if os.path.exists(result_dir):\n",
    "        shutil.rmtree(result_dir)\n",
    "    os.mkdir(result_dir)\n",
    "\n",
    "    for image_file in sorted(image_files):\n",
    "        t = time.time()\n",
    "        result, image_framed = single_pic_proc(image_file)\n",
    "        output_file = os.path.join(result_dir, image_file.split('/')[-1])\n",
    "        txt_file = os.path.join(result_dir, image_file.split('/')[-1].split('.')[0]+'.txt')\n",
    "        print(txt_file)\n",
    "        txt_f = open(txt_file, 'w')\n",
    "        Image.fromarray(image_framed).save(output_file)\n",
    "        print(\"Mission complete, it took {:.3f}s\".format(time.time() - t))\n",
    "        print(\"\\nRecognition Result:\\n\")\n",
    "        for key in result:\n",
    "            print(result[key][1])\n",
    "            txt_f.write(result[key][1]+'\\n')\n",
    "        txt_f.close()"
   ]
  }
 ],
 "metadata": {
  "kernelspec": {
   "display_name": "Python 3",
   "language": "python",
   "name": "python3"
  },
  "language_info": {
   "codemirror_mode": {
    "name": "ipython",
    "version": 3
   },
   "file_extension": ".py",
   "mimetype": "text/x-python",
   "name": "python",
   "nbconvert_exporter": "python",
   "pygments_lexer": "ipython3",
   "version": "3.6.9"
  }
 },
 "nbformat": 4,
 "nbformat_minor": 5
}
