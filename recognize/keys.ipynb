{
 "cells": [
  {
   "cell_type": "code",
   "execution_count": null,
   "id": "guided-attachment",
   "metadata": {},
   "outputs": [],
   "source": [
    "import pickle as pkl\n",
    "# gen alphabet via label\n",
    "# alphabet_set = set()\n",
    "# infofiles = ['infofiles/infofile_selfcollect.txt','infofiles/infofile_train_public.txt']\n",
    "# for infofile in infofiles:\n",
    "#     f = open(infofile)\n",
    "#     content = f.readlines()\n",
    "#     f.close()\n",
    "#     for line in content:\n",
    "#         if len(line.strip())>0:\n",
    "#             if len(line.strip().split('\\t'))!=2:\n",
    "#                 print(line)\n",
    "#             else:\n",
    "#                 fname,label = line.strip().split('\\t')\n",
    "#                 for ch in label:\n",
    "#                     alphabet_set.add(ch)\n",
    "#\n",
    "# alphabet_list = sorted(list(alphabet_set))\n",
    "# pkl.dump(alphabet_list,open('alphabet.pkl','wb'))\n",
    "\n",
    "alphabet_list = pkl.load(open('recognize/alphabet.pkl','rb'))\n",
    "alphabet = [ord(ch) for ch in alphabet_list]\n",
    "alphabet_v2 = alphabet\n",
    "# print(alphabet_v2)"
   ]
  }
 ],
 "metadata": {
  "kernelspec": {
   "display_name": "Python 3",
   "language": "python",
   "name": "python3"
  },
  "language_info": {
   "codemirror_mode": {
    "name": "ipython",
    "version": 3
   },
   "file_extension": ".py",
   "mimetype": "text/x-python",
   "name": "python",
   "nbconvert_exporter": "python",
   "pygments_lexer": "ipython3",
   "version": "3.6.9"
  }
 },
 "nbformat": 4,
 "nbformat_minor": 5
}
