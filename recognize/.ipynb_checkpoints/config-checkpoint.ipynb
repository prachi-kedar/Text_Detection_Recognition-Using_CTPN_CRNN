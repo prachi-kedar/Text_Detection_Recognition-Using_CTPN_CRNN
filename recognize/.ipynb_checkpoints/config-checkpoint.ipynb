{
 "cells": [
  {
   "cell_type": "code",
   "execution_count": null,
   "id": "electoral-composition",
   "metadata": {},
   "outputs": [],
   "source": [
    "from recognize import keys\n",
    "\n",
    "train_infofile = 'data_set/infofile_train_10w.txt'\n",
    "train_infofile_fullimg = ''\n",
    "val_infofile = 'data_set/infofile_test.txt'\n",
    "alphabet = keys.alphabet\n",
    "alphabet_v2 = keys.alphabet_v2\n",
    "workers = 4\n",
    "batchSize = 50\n",
    "imgH = 32\n",
    "imgW = 280\n",
    "nc = 1\n",
    "nclass = len(alphabet)+1\n",
    "nh = 256\n",
    "niter = 100\n",
    "lr = 0.0003\n",
    "beta1 = 0.5\n",
    "cuda = True\n",
    "ngpu = 1\n",
    "pretrained_model = ''\n",
    "saved_model_dir = 'crnn_models'\n",
    "saved_model_prefix = 'CRNN-'\n",
    "use_log = False\n",
    "remove_blank = False\n",
    "\n",
    "experiment = None\n",
    "displayInterval = 500\n",
    "n_test_disp = 10\n",
    "valInterval = 500\n",
    "saveInterval = 500\n",
    "adam = False\n",
    "adadelta = False\n",
    "keep_ratio = False\n",
    "random_sample = True\n"
   ]
  }
 ],
 "metadata": {
  "kernelspec": {
   "display_name": "Python 3",
   "language": "python",
   "name": "python3"
  },
  "language_info": {
   "codemirror_mode": {
    "name": "ipython",
    "version": 3
   },
   "file_extension": ".py",
   "mimetype": "text/x-python",
   "name": "python",
   "nbconvert_exporter": "python",
   "pygments_lexer": "ipython3",
   "version": "3.6.9"
  }
 },
 "nbformat": 4,
 "nbformat_minor": 5
}
