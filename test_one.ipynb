{
 "cells": [
  {
   "cell_type": "code",
   "execution_count": null,
   "id": "catholic-abraham",
   "metadata": {},
   "outputs": [],
   "source": [
    "import os\n",
    "from ocr import ocr\n",
    "import time\n",
    "import shutil\n",
    "import numpy as np\n",
    "from PIL import Image\n",
    "from glob import glob\n",
    "import cv2\n",
    "\n",
    "def single_pic_proc(image_file):\n",
    "    image = np.array(Image.open(image_file).convert('RGB'))\n",
    "    result, image_framed = ocr(image)\n",
    "    return result,image_framed\n",
    "\n",
    "def dis(image):\n",
    "    cv2.imshow('image', image)\n",
    "    cv2.waitKey(0)\n",
    "    cv2.destroyAllWindows()\n",
    "\n",
    "if __name__ == '__main__':\n",
    "    import sys\n",
    "    if len(sys.argv)>=2:\n",
    "        filename = sys.argv[1]\n",
    "        if filename.endswith('jpg') or filename.endswith('png'):\n",
    "            result, image_framed = single_pic_proc(filename)\n",
    "            print(result)\n",
    "            dis(image_framed)"
   ]
  }
 ],
 "metadata": {
  "kernelspec": {
   "display_name": "Python 3",
   "language": "python",
   "name": "python3"
  },
  "language_info": {
   "codemirror_mode": {
    "name": "ipython",
    "version": 3
   },
   "file_extension": ".py",
   "mimetype": "text/x-python",
   "name": "python",
   "nbconvert_exporter": "python",
   "pygments_lexer": "ipython3",
   "version": "3.6.9"
  }
 },
 "nbformat": 4,
 "nbformat_minor": 5
}
